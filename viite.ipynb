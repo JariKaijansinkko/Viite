{
 "cells": [
  {
   "cell_type": "code",
   "execution_count": 56,
   "metadata": {},
   "outputs": [],
   "source": [
    "import math"
   ]
  },
  {
   "cell_type": "code",
   "execution_count": 57,
   "metadata": {},
   "outputs": [],
   "source": [
    "pituus = 0\n",
    "viiteStr = ''\n",
    "while pituus <20:\n",
    "\n",
    "  viiteStr = input(\"Anna viite:\")\n",
    "  pituus = len(viiteStr)\n",
    "  if pituus > 19 or pituus < 3:\n",
    "    print('liian pitkä tai lyhyt po. 3-19 merkkiä pitkä')\n",
    "    break\n",
    "  else:\n",
    "    break\n",
    "    "
   ]
  },
  {
   "cell_type": "code",
   "execution_count": 58,
   "metadata": {},
   "outputs": [],
   "source": [
    "painotus = ('37137137137137137137')[-pituus:]"
   ]
  },
  {
   "cell_type": "code",
   "execution_count": 59,
   "metadata": {},
   "outputs": [
    {
     "data": {
      "text/plain": [
       "'1234567'"
      ]
     },
     "execution_count": 59,
     "metadata": {},
     "output_type": "execute_result"
    }
   ],
   "source": [
    "# len('37137137137137137137')\n",
    "viiteStr"
   ]
  },
  {
   "cell_type": "code",
   "execution_count": 60,
   "metadata": {},
   "outputs": [
    {
     "data": {
      "text/plain": [
       "'   painotus =[0,1,2,3]\\nviiteStr =[7,1,3,7]\\npituus =4\\npainotettuNumero = [0,0,0,0]\\nfor i in range(1,2):\\n  painotettuNumero[i] = int(viiteStr[-i-1])*int(painotus[-i])\\n\\n# i =2 '"
      ]
     },
     "execution_count": 60,
     "metadata": {},
     "output_type": "execute_result"
    }
   ],
   "source": [
    "painotettuNumero = [0]\n",
    "for i in range(1,pituus):\n",
    "  painotettuNumero += '0'\n",
    "\n",
    "# painotettuNumero = []\n",
    "for i in range(0,pituus):\n",
    "  painotettuNumero[i] = int(viiteStr[-i-1])*int(painotus[-i-1])\n",
    "\n",
    "\n",
    "\n",
    "\"\"\"   painotus =[0,1,2,3]\n",
    "viiteStr =[7,1,3,7]\n",
    "pituus =4\n",
    "painotettuNumero = [0,0,0,0]\n",
    "for i in range(1,2):\n",
    "  painotettuNumero[i] = int(viiteStr[-i-1])*int(painotus[-i])\n",
    "\n",
    "# i =2 \"\"\"\n",
    "# painotettuNumero = int(viiteStr[-i-1])*int(painotus[-i])"
   ]
  },
  {
   "cell_type": "code",
   "execution_count": 61,
   "metadata": {},
   "outputs": [
    {
     "name": "stdout",
     "output_type": "stream",
     "text": [
      "118\n",
      "2\n",
      "12345672\n"
     ]
    }
   ],
   "source": [
    "summa = 0\n",
    "for i in range(0,pituus):\n",
    "    summa += int(painotettuNumero[i])\n",
    "\n",
    "print(summa)\n",
    "\n",
    "seuraavaKymmen = 10*(math.ceil(summa/10))\n",
    "\n",
    "tarkistusNumero = str(seuraavaKymmen - summa)\n",
    "\n",
    "print(tarkistusNumero)\n",
    "\n",
    "viiteStr += tarkistusNumero\n",
    "\n",
    "print(viiteStr)"
   ]
  }
 ],
 "metadata": {
  "kernelspec": {
   "display_name": "Python 3",
   "language": "python",
   "name": "python3"
  },
  "language_info": {
   "codemirror_mode": {
    "name": "ipython",
    "version": 3
   },
   "file_extension": ".py",
   "mimetype": "text/x-python",
   "name": "python",
   "nbconvert_exporter": "python",
   "pygments_lexer": "ipython3",
   "version": "3.11.1"
  },
  "orig_nbformat": 4
 },
 "nbformat": 4,
 "nbformat_minor": 2
}
